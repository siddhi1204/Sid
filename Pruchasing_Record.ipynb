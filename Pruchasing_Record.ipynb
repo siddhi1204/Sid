{
  "nbformat": 4,
  "nbformat_minor": 0,
  "metadata": {
    "colab": {
      "name": "Pruchasing_Record.ipynb",
      "provenance": []
    },
    "kernelspec": {
      "name": "python3",
      "display_name": "Python 3"
    },
    "language_info": {
      "name": "python"
    }
  },
  "cells": [
    {
      "cell_type": "markdown",
      "metadata": {
        "id": "5EmBQSxWO7cg"
      },
      "source": [
        "# Item Available in_Inventoy\n"
      ]
    },
    {
      "cell_type": "code",
      "metadata": {
        "id": "vlsTeCG2Weqo"
      },
      "source": [
        "inventory_list= {\n",
        "    197770 : {\"Item_Name\": \"Rose Water\",\"Price\":15,\"Quant\": 80,\"Category\":\"Skin Care Product\",\"Expiry Date\":\"11/23\",\"Review\":8},\n",
        "    197771 : {\"Item_Name\": \"Face Wash\",\"Price\":30,\"Quant\":70,\"Category\":\"Skin Care Product\",\"Expiry Date\":\"9/22\",\"Review\":10},\n",
        "    197772 : {\"Item_Name\": \"POND'S\",\"Price\":45, \"Quant\": 60,\"Category\":\"Skin Care Product\",\"Expiry Date\":\"9/23\",\"Review\":7},\n",
        "    197773 : {\"Item_Name\": \"Body_Lotion\",\"Price\":125, \"Quant\": 90,\"Category\":\"Body Care Product\",\"Expiry Date\":\"10/25\",\"Review\":9},\n",
        "    197774 : {\"Item_Name\": \"Shampoo\",\"Price\":225, \"Quant\": 100,\"Category\":\"Hair Care Product\",\"Expiry Date\":\"10/22\",\"Review\":10},\n",
        "    197775 : {\"Item_Name\": \"Conditioner\",\"Price\":150, \"Quant\":50,\"Category\":\"Hair Care Product\",\"Expiry Date\":\"7/24\",\"Review\":8},\n",
        "    197776 : {\"Item_Name\": \"Hair Band\",\"Price\":25, \"Quant\": 100,\"Category\":\"Hair Care Product\",\"Expiry Date\": \"None\",\"Review\":10},\n",
        "    197777 : {\"Item_Name\": \"Comb\",\"Price\":20, \"Quant\": 200,\"Category\":\"Hair Care Product\",\"Expiry Date\":\"None\",\"Review\":10},\n",
        "    197778 : {\"Item_Name\": \"Bulb\",\"Price\": 225, \"Quant\": 100,\"Category\":\"General Stuff\",\"Expiry Date\":\"None\",\"Review\":9},\n",
        "    197779 : {\"Item_Name\": \"Soya Chunks\",\"Price\": 60, \"Quant\": 100,\"Category\":\"Food\",\"Expiry Date\":\"8/22\",\"Review\":10},\n",
        "    197780 : {\"Item_Name\": \"Tooth Paste\",\"Price\": 70, \"Quant\": 80,\"Category\":\"Health\",\"Expiry Date\":\"9/22\",\"Review\":9},\n",
        "    197781 : {\"Item_Name\": \"Pen\",\"Price\": 10, \"Quant\": 50,\"Category\":\"Educational\",\"Expiry Date\":\"None\",\"Review\":9},\n",
        "    197782 : {\"Item_Name\": \"Notebooks\",\"Price\":40, \"Quant\": 30,\"Category\":\"Educational\",\"Expiry Date\":\"None\",\"Review\":10},\n",
        "    197783 : {\"Item_Name\": \"Fevicol\",\"Price\": 10, \"Quant\": 60,\"Category\":\"General Stuff\",\"Expiry Date\":\"11/22\",\"Review\":9},\n",
        "    197784 : {\"Item_Name\": \"Hash Wash\",\"Price\": 50, \"Quant\": 30,\"Category\":\"Health Care\",\"Expiry Date\":\"7/23\",\"Review\":9},\n",
        "    197785 : {\"Item_Name\": \"Green Tea\",\"Price\": 100, \"Quant\": 20,\"Category\":\"food\",\"Expiry Date\":\"9/22\",\"Review\":8},\n",
        "    197786 : {\"Item_Name\": \"Boost\",\"Price\": 195, \"Quant\": 40,\"Category\":\"food\",\"Expiry Date\":\"12/25\",\"Review\":10},\n",
        "    197787 : {\"Item_Name\": \"Sanitizer\",\"Price\": 50, \"Quant\": 100,\"Category\":\"Health care\",\"Expiry Date\":\"11/23\",\"Review\":9},\n",
        "    197788 : {\"Item_Name\": \"PARLE-G\",\"Price\": 10, \"Quant\": 50,\"Category\":\"food\",\"Expiry Date\":\"9/22\",\"Review\":8},\n",
        "    197789 : {\"Item_Name\": \"Dry Pasta\",\"Price\": 65, \"Quant\": 30,\"Category\":\"food\",\"Expiry Date\":\"4/23\",\"Review\":9},\n",
        "    197790 : {\"Item_Name\": \"Cold Drinks\",\"Price\": 20, \"Quant\": 20,\"Category\":\"food\",\"Expiry Date\":\"2/23\",\"Review\":7},\n",
        "    197791 : {\"Item_Name\": \"Dettol_Soap\",\"Price\": 30, \"Quant\": 40,\"Category\":\"Health Care\",\"Expiry Date\":\"1/24\",\"Review\":8},\n",
        "    197792 : {\"Item_Name\": \"Complan\",\"Price\":150, \"Quant\": 30,\"Category\":\"food\",\"Expiry Date\":\"5/23\",\"Review\":7},\n",
        "    197793 : {\"Item_Name\": \"Candies\",\"Price\": 10, \"Quant\": 40,\"Category\":\"food\",\"Expiry Date\":\"2/23\",\"Review\":8},\n",
        "    197794 : {\"Item_Name\": \"Pencils\",\"Price\": 20, \"Quant\": 60,\"Category\":\"Educational\",\"Expiry Date\":\"None\",\"Review\":10},\n",
        "    197795 : {\"Item_Name\": \"Cleansing Agent\",\"Price\": 100, \"Quant\": 60,\"Category\":\"Health Care\",\"Expiry Date\":\"9/22\",\"Review\":9},\n",
        "    197796 : {\"Item_Name\": \"Tea\",\"Price\": 20, \"Quant\": 40,\"Category\":\"Food\",\"Expiry Date\":\"9/24\",\"Review\":10},\n",
        "    197797 : {\"Item_Name\": \"Bourn Vita\",\"Price\": 20, \"Quant\": 60,\"Category\":\"Food\",\"Expiry Date\":\"6/23\",\"Review\":10},\n",
        "    197798 : {\"Item_Name\": \"Vicco Turmeric\",\"Price\": 40, \"Quant\": 50,\"Category\":\"Skin Care\",\"Expiry Date\":\"3/23\",\"Review\":10},\n",
        "    197799 : {\"Item_Name\": \"Boro Plus\",\"Price\": 20, \"Quant\": 60,\"Category\":\"Skin CAre\",\"Expiry Date\":\"8/24\",\"Review\":10}\n",
        "}"
      ],
      "execution_count": 8,
      "outputs": []
    },
    {
      "cell_type": "code",
      "metadata": {
        "id": "tzsOPFT6Wlq2"
      },
      "source": [
        "import json"
      ],
      "execution_count": 6,
      "outputs": []
    },
    {
      "cell_type": "code",
      "metadata": {
        "colab": {
          "base_uri": "https://localhost:8080/",
          "height": 137
        },
        "id": "26fSAtv5Wofu",
        "outputId": "a2540a2f-9110-4286-a125-381b1a4b18c1"
      },
      "source": [
        "js = json.dumps(inventory_list)\n",
        "js"
      ],
      "execution_count": 9,
      "outputs": [
        {
          "output_type": "execute_result",
          "data": {
            "application/vnd.google.colaboratory.intrinsic+json": {
              "type": "string"
            },
            "text/plain": [
              "'{\"197770\": {\"Item_Name\": \"Rose Water\", \"Price\": 15, \"Quant\": 80, \"Category\": \"Skin Care Product\", \"Expiry Date\": \"11/23\", \"Review\": 8}, \"197771\": {\"Item_Name\": \"Face Wash\", \"Price\": 30, \"Quant\": 70, \"Category\": \"Skin Care Product\", \"Expiry Date\": \"9/22\", \"Review\": 10}, \"197772\": {\"Item_Name\": \"POND\\'S\", \"Price\": 45, \"Quant\": 60, \"Category\": \"Skin Care Product\", \"Expiry Date\": \"9/23\", \"Review\": 7}, \"197773\": {\"Item_Name\": \"Body_Lotion\", \"Price\": 125, \"Quant\": 90, \"Category\": \"Body Care Product\", \"Expiry Date\": \"10/25\", \"Review\": 9}, \"197774\": {\"Item_Name\": \"Shampoo\", \"Price\": 225, \"Quant\": 100, \"Category\": \"Hair Care Product\", \"Expiry Date\": \"10/22\", \"Review\": 10}, \"197775\": {\"Item_Name\": \"Conditioner\", \"Price\": 150, \"Quant\": 50, \"Category\": \"Hair Care Product\", \"Expiry Date\": \"7/24\", \"Review\": 8}, \"197776\": {\"Item_Name\": \"Hair Band\", \"Price\": 25, \"Quant\": 100, \"Category\": \"Hair Care Product\", \"Expiry Date\": \"None\", \"Review\": 10}, \"197777\": {\"Item_Name\": \"Comb\", \"Price\": 20, \"Quant\": 200, \"Category\": \"Hair Care Product\", \"Expiry Date\": \"None\", \"Review\": 10}, \"197778\": {\"Item_Name\": \"Bulb\", \"Price\": 225, \"Quant\": 100, \"Category\": \"General Stuff\", \"Expiry Date\": \"None\", \"Review\": 9}, \"197779\": {\"Item_Name\": \"Soya Chunks\", \"Price\": 60, \"Quant\": 100, \"Category\": \"Food\", \"Expiry Date\": \"8/22\", \"Review\": 10}, \"197780\": {\"Item_Name\": \"Tooth Paste\", \"Price\": 70, \"Quant\": 80, \"Category\": \"Health\", \"Expiry Date\": \"9/22\", \"Review\": 9}, \"197781\": {\"Item_Name\": \"Pen\", \"Price\": 10, \"Quant\": 50, \"Category\": \"Educational\", \"Expiry Date\": \"None\", \"Review\": 9}, \"197782\": {\"Item_Name\": \"Notebooks\", \"Price\": 40, \"Quant\": 30, \"Category\": \"Educational\", \"Expiry Date\": \"None\", \"Review\": 10}, \"197783\": {\"Item_Name\": \"Fevicol\", \"Price\": 10, \"Quant\": 60, \"Category\": \"General Stuff\", \"Expiry Date\": \"11/22\", \"Review\": 9}, \"197784\": {\"Item_Name\": \"Hash Wash\", \"Price\": 50, \"Quant\": 30, \"Category\": \"Health Care\", \"Expiry Date\": \"7/23\", \"Review\": 9}, \"197785\": {\"Item_Name\": \"Green Tea\", \"Price\": 100, \"Quant\": 20, \"Category\": \"food\", \"Expiry Date\": \"9/22\", \"Review\": 8}, \"197786\": {\"Item_Name\": \"Boost\", \"Price\": 195, \"Quant\": 40, \"Category\": \"food\", \"Expiry Date\": \"12/25\", \"Review\": 10}, \"197787\": {\"Item_Name\": \"Sanitizer\", \"Price\": 50, \"Quant\": 100, \"Category\": \"Health care\", \"Expiry Date\": \"11/23\", \"Review\": 9}, \"197788\": {\"Item_Name\": \"PARLE-G\", \"Price\": 10, \"Quant\": 50, \"Category\": \"food\", \"Expiry Date\": \"9/22\", \"Review\": 8}, \"197789\": {\"Item_Name\": \"Dry Pasta\", \"Price\": 65, \"Quant\": 30, \"Category\": \"food\", \"Expiry Date\": \"4/23\", \"Review\": 9}, \"197790\": {\"Item_Name\": \"Cold Drinks\", \"Price\": 20, \"Quant\": 20, \"Category\": \"food\", \"Expiry Date\": \"2/23\", \"Review\": 7}, \"197791\": {\"Item_Name\": \"Dettol_Soap\", \"Price\": 30, \"Quant\": 40, \"Category\": \"Health Care\", \"Expiry Date\": \"1/24\", \"Review\": 8}, \"197792\": {\"Item_Name\": \"Complan\", \"Price\": 150, \"Quant\": 30, \"Category\": \"food\", \"Expiry Date\": \"5/23\", \"Review\": 7}, \"197793\": {\"Item_Name\": \"Candies\", \"Price\": 10, \"Quant\": 40, \"Category\": \"food\", \"Expiry Date\": \"2/23\", \"Review\": 8}, \"197794\": {\"Item_Name\": \"Pencils\", \"Price\": 20, \"Quant\": 60, \"Category\": \"Educational\", \"Expiry Date\": \"None\", \"Review\": 10}, \"197795\": {\"Item_Name\": \"Cleansing Agent\", \"Price\": 100, \"Quant\": 60, \"Category\": \"Health Care\", \"Expiry Date\": \"9/22\", \"Review\": 9}, \"197796\": {\"Item_Name\": \"Tea\", \"Price\": 20, \"Quant\": 40, \"Category\": \"Food\", \"Expiry Date\": \"9/24\", \"Review\": 10}, \"197797\": {\"Item_Name\": \"Bourn Vita\", \"Price\": 20, \"Quant\": 60, \"Category\": \"Food\", \"Expiry Date\": \"6/23\", \"Review\": 10}, \"197798\": {\"Item_Name\": \"Vicco Turmeric\", \"Price\": 40, \"Quant\": 50, \"Category\": \"Skin Care\", \"Expiry Date\": \"3/23\", \"Review\": 10}, \"197799\": {\"Item_Name\": \"Boro Plus\", \"Price\": 20, \"Quant\": 60, \"Category\": \"Skin CAre\", \"Expiry Date\": \"8/24\", \"Review\": 10}}'"
            ]
          },
          "metadata": {},
          "execution_count": 9
        }
      ]
    },
    {
      "cell_type": "code",
      "metadata": {
        "id": "xgsKax8CXALP"
      },
      "source": [
        "ss = open(\"inventory_list.json\",'r')\n",
        "txt = ss.read()\n",
        "ss.close()\n",
        "\n",
        "inventory_list = json.loads(txt)"
      ],
      "execution_count": 14,
      "outputs": []
    },
    {
      "cell_type": "code",
      "metadata": {
        "colab": {
          "base_uri": "https://localhost:8080/"
        },
        "id": "b7BEXwAdcNZD",
        "outputId": "52de5ecb-b970-4b64-c362-14285979fddd"
      },
      "source": [
        "inventory_list"
      ],
      "execution_count": 15,
      "outputs": [
        {
          "output_type": "execute_result",
          "data": {
            "text/plain": [
              "{'197770': {'Category': 'Skin Care Product',\n",
              "  'Expiry Date': '11/23',\n",
              "  'Item_Name': 'Rose Water',\n",
              "  'Price': 15,\n",
              "  'Quant': 80,\n",
              "  'Review': 8},\n",
              " '197771': {'Category': 'Skin Care Product',\n",
              "  'Expiry Date': '9/22',\n",
              "  'Item_Name': 'Face Wash',\n",
              "  'Price': 30,\n",
              "  'Quant': 70,\n",
              "  'Review': 10},\n",
              " '197772': {'Category': 'Skin Care Product',\n",
              "  'Expiry Date': '9/23',\n",
              "  'Item_Name': \"POND'S\",\n",
              "  'Price': 45,\n",
              "  'Quant': 60,\n",
              "  'Review': 7},\n",
              " '197773': {'Category': 'Body Care Product',\n",
              "  'Expiry Date': '10/25',\n",
              "  'Item_Name': 'Body_Lotion',\n",
              "  'Price': 125,\n",
              "  'Quant': 90,\n",
              "  'Review': 9},\n",
              " '197774': {'Category': 'Hair Care Product',\n",
              "  'Expiry Date': '10/22',\n",
              "  'Item_Name': 'Shampoo',\n",
              "  'Price': 225,\n",
              "  'Quant': 100,\n",
              "  'Review': 10},\n",
              " '197775': {'Category': 'Hair Care Product',\n",
              "  'Expiry Date': '7/24',\n",
              "  'Item_Name': 'Conditioner',\n",
              "  'Price': 150,\n",
              "  'Quant': 50,\n",
              "  'Review': 8},\n",
              " '197776': {'Category': 'Hair Care Product',\n",
              "  'Expiry Date': 'None',\n",
              "  'Item_Name': 'Hair Band',\n",
              "  'Price': 25,\n",
              "  'Quant': 100,\n",
              "  'Review': 10},\n",
              " '197777': {'Category': 'Hair Care Product',\n",
              "  'Expiry Date': 'None',\n",
              "  'Item_Name': 'Comb',\n",
              "  'Price': 20,\n",
              "  'Quant': 200,\n",
              "  'Review': 10},\n",
              " '197778': {'Category': 'General Stuff',\n",
              "  'Expiry Date': 'None',\n",
              "  'Item_Name': 'Bulb',\n",
              "  'Price': 225,\n",
              "  'Quant': 100,\n",
              "  'Review': 9},\n",
              " '197779': {'Category': 'Food',\n",
              "  'Expiry Date': '8/22',\n",
              "  'Item_Name': 'Soya Chunks',\n",
              "  'Price': 60,\n",
              "  'Quant': 100,\n",
              "  'Review': 10},\n",
              " '197780': {'Category': 'Health',\n",
              "  'Expiry Date': '9/22',\n",
              "  'Item_Name': 'Tooth Paste',\n",
              "  'Price': 70,\n",
              "  'Quant': 80,\n",
              "  'Review': 9},\n",
              " '197781': {'Category': 'Educational',\n",
              "  'Expiry Date': 'None',\n",
              "  'Item_Name': 'Pen',\n",
              "  'Price': 10,\n",
              "  'Quant': 50,\n",
              "  'Review': 9},\n",
              " '197782': {'Category': 'Educational',\n",
              "  'Expiry Date': 'None',\n",
              "  'Item_Name': 'Notebooks',\n",
              "  'Price': 40,\n",
              "  'Quant': 30,\n",
              "  'Review': 10},\n",
              " '197783': {'Category': 'General Stuff',\n",
              "  'Expiry Date': '11/22',\n",
              "  'Item_Name': 'Fevicol',\n",
              "  'Price': 10,\n",
              "  'Quant': 60,\n",
              "  'Review': 9},\n",
              " '197784': {'Category': 'Health Care',\n",
              "  'Expiry Date': '7/23',\n",
              "  'Item_Name': 'Hash Wash',\n",
              "  'Price': 50,\n",
              "  'Quant': 30,\n",
              "  'Review': 9},\n",
              " '197785': {'Category': 'food',\n",
              "  'Expiry Date': '9/22',\n",
              "  'Item_Name': 'Green Tea',\n",
              "  'Price': 100,\n",
              "  'Quant': 20,\n",
              "  'Review': 8},\n",
              " '197786': {'Category': 'food',\n",
              "  'Expiry Date': '12/25',\n",
              "  'Item_Name': 'Boost',\n",
              "  'Price': 195,\n",
              "  'Quant': 40,\n",
              "  'Review': 10},\n",
              " '197787': {'Category': 'Health care',\n",
              "  'Expiry Date': '11/23',\n",
              "  'Item_Name': 'Sanitizer',\n",
              "  'Price': 50,\n",
              "  'Quant': 100,\n",
              "  'Review': 9},\n",
              " '197788': {'Category': 'food',\n",
              "  'Expiry Date': '9/22',\n",
              "  'Item_Name': 'PARLE-G',\n",
              "  'Price': 10,\n",
              "  'Quant': 50,\n",
              "  'Review': 8},\n",
              " '197789': {'Category': 'food',\n",
              "  'Expiry Date': '4/23',\n",
              "  'Item_Name': 'Dry Pasta',\n",
              "  'Price': 65,\n",
              "  'Quant': 30,\n",
              "  'Review': 9},\n",
              " '197790': {'Category': 'food',\n",
              "  'Expiry Date': '2/23',\n",
              "  'Item_Name': 'Cold Drinks',\n",
              "  'Price': 20,\n",
              "  'Quant': 20,\n",
              "  'Review': 7},\n",
              " '197791': {'Category': 'Health Care',\n",
              "  'Expiry Date': '1/24',\n",
              "  'Item_Name': 'Dettol_Soap',\n",
              "  'Price': 30,\n",
              "  'Quant': 40,\n",
              "  'Review': 8},\n",
              " '197792': {'Category': 'food',\n",
              "  'Expiry Date': '5/23',\n",
              "  'Item_Name': 'Complan',\n",
              "  'Price': 150,\n",
              "  'Quant': 30,\n",
              "  'Review': 7},\n",
              " '197793': {'Category': 'food',\n",
              "  'Expiry Date': '2/23',\n",
              "  'Item_Name': 'Candies',\n",
              "  'Price': 10,\n",
              "  'Quant': 40,\n",
              "  'Review': 8},\n",
              " '197794': {'Category': 'Educational',\n",
              "  'Expiry Date': 'None',\n",
              "  'Item_Name': 'Pencils',\n",
              "  'Price': 20,\n",
              "  'Quant': 60,\n",
              "  'Review': 10},\n",
              " '197795': {'Category': 'Health Care',\n",
              "  'Expiry Date': '9/22',\n",
              "  'Item_Name': 'Cleansing Agent',\n",
              "  'Price': 100,\n",
              "  'Quant': 60,\n",
              "  'Review': 9},\n",
              " '197796': {'Category': 'Food',\n",
              "  'Expiry Date': '9/24',\n",
              "  'Item_Name': 'Tea',\n",
              "  'Price': 20,\n",
              "  'Quant': 40,\n",
              "  'Review': 10},\n",
              " '197797': {'Category': 'Food',\n",
              "  'Expiry Date': '6/23',\n",
              "  'Item_Name': 'Bourn Vita',\n",
              "  'Price': 20,\n",
              "  'Quant': 60,\n",
              "  'Review': 10},\n",
              " '197798': {'Category': 'Skin Care',\n",
              "  'Expiry Date': '3/23',\n",
              "  'Item_Name': 'Vicco Turmeric',\n",
              "  'Price': 40,\n",
              "  'Quant': 50,\n",
              "  'Review': 10},\n",
              " '197799': {'Category': 'Skin CAre',\n",
              "  'Expiry Date': '8/24',\n",
              "  'Item_Name': 'Boro Plus',\n",
              "  'Price': 20,\n",
              "  'Quant': 60,\n",
              "  'Review': 10}}"
            ]
          },
          "metadata": {},
          "execution_count": 15
        }
      ]
    },
    {
      "cell_type": "markdown",
      "metadata": {
        "id": "FtVnkKGdciDg"
      },
      "source": [
        "# Purchased_Item:\n"
      ]
    },
    {
      "cell_type": "code",
      "metadata": {
        "colab": {
          "base_uri": "https://localhost:8080/"
        },
        "id": "susAX9PYcrIY",
        "outputId": "3ce683a4-eaff-4b7e-9f3d-2fba48d35768"
      },
      "source": [
        "Item_ID  = str(input(\"Enter the product_ID: \"))\n",
        "sid_quant = int(input(\"Enter the quantity: \"))\n",
        "\n",
        "\n",
        "print(\"Product: \", inventory_list[Item_ID]['Item_Name'])\n",
        "print(\"Price: \", inventory_list[Item_ID]['Price'])\n",
        "print(\"Billing Amount: \", inventory_list[Item_ID]['Price'] * sid_quant)\n",
        "\n",
        "if (inventory_list[Item_ID]['Price'] * sid_quant >= 500):\n",
        "  print(\"Wow!!!! Now your are able to take our free cupon\")\n",
        "else:\n",
        "  print(\"Better Luck Next time...\")\n",
        "\n",
        "\n"
      ],
      "execution_count": 33,
      "outputs": [
        {
          "output_type": "stream",
          "name": "stdout",
          "text": [
            "Enter the product_ID: 197785\n",
            "Enter the quantity: 2\n",
            "Product:  Green Tea\n",
            "Price:  100\n",
            "Billing Amount:  200\n",
            "Better Luck Next time...\n"
          ]
        }
      ]
    },
    {
      "cell_type": "code",
      "metadata": {
        "colab": {
          "base_uri": "https://localhost:8080/"
        },
        "id": "h8A5u2SIfvaj",
        "outputId": "582f3455-7c08-4fda-9e88-986cd7aca98c"
      },
      "source": [
        "Item_ID  = str(input(\"Enter the product_ID: \"))\n",
        "sid_quant = int(input(\"Enter the quantity: \"))\n",
        "\n",
        "\n",
        "print(\"Product: \", inventory_list[Item_ID]['Item_Name'])\n",
        "print(\"Price: \", inventory_list[Item_ID]['Price'])\n",
        "print(\"Billing Amount: \", inventory_list[Item_ID]['Price'] * sid_quant)\n",
        "\n",
        "if (inventory_list[Item_ID]['Price'] * sid_quant >= 500):\n",
        "  print(\"Wow!!!! Now your are able to take our free cupon\")\n",
        "else:\n",
        "  print(\"Better Luck Next time...\")"
      ],
      "execution_count": 30,
      "outputs": [
        {
          "output_type": "stream",
          "name": "stdout",
          "text": [
            "Enter the product_ID: 197778\n",
            "Enter the quantity: 3\n",
            "Product:  Bulb\n",
            "Price:  225\n",
            "Billing Amount:  675\n",
            "Wow!!!! Now your are able to take our free cupon\n"
          ]
        }
      ]
    },
    {
      "cell_type": "code",
      "metadata": {
        "id": "fLCfOjOShM3x"
      },
      "source": [
        ""
      ],
      "execution_count": null,
      "outputs": []
    }
  ]
}